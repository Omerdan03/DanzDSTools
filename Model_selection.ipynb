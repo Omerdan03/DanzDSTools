{
 "cells": [
  {
   "cell_type": "markdown",
   "metadata": {},
   "source": [
    "[![Open In Colab](https://colab.research.google.com/assets/colab-badge.svg)](https://colab.research.google.com/github/Omerdan03/DanzDSTools/blob/master/Model_selection.ipynb)"
   ]
  },
  {
   "cell_type": "code",
   "execution_count": null,
   "metadata": {
    "id": "a6zqGb1Wt1RO"
   },
   "outputs": [],
   "source": [
    "# cross validation k-Fold\n",
    "\n",
    "from sklearn.model_selection import KFold\n",
    "from sklearn.model_selection import cross_val_score\n",
    "\n",
    "reg = LogisticRegression()\n",
    "\n",
    "kf = KFold(n_splits=10, shuffle=True, random_state=42)\n",
    "for train_index, val_index in kf.split(X_train):\n",
    "    X_train2, X_val = X_train.iloc[train_index], X_train.iloc[val_index]\n",
    "    y_train2, val = y[train_index], y[val_index]\n",
    "    \n",
    "final_score = cross_val_score(reg, X_train, y_train, cv= kf, scoring=\"accuracy\")\n",
    "print(f'Scores for each fold: {final_score}')\n",
    "print('Final Model Score: %.2f' %(final_score.mean()))"
   ]
  },
  {
   "cell_type": "code",
   "execution_count": null,
   "metadata": {
    "id": "ysfDENC1t-tb"
   },
   "outputs": [],
   "source": [
    "# grid search CV\n",
    "\n",
    "from sklearn.model_selection import GridSearchCV\n",
    "from sklearn.model_selection import ShuffleSplit\n",
    "\n",
    "cls = LogisticRegression()\n",
    "\n",
    "params_dict = {'penalty': ['l1', 'l2', 'elasticnet'],\n",
    "               'tol': [10**-5, 10**-4, 10**-3],\n",
    "               'C': [1.5, 1, 0.7],\n",
    "               'solver': ['newton-cg', 'lbfgs', 'liblinear', 'sag', 'saga']}\n",
    "\n",
    "print(f'{type(reg).__name__} Tuning hyper-parameters with grid')\n",
    "\n",
    "ss_cv = ShuffleSplit(n_splits=5)\n",
    "\n",
    "clf_forest = GridSearchCV(cls, params_dict, cv = ss_cv, verbose=10, n_jobs=-1)\n",
    "\n",
    "clf_forest.fit(X_train, y_train)\n",
    "\n",
    "print(\"Best parameters set found on validation set:\")\n",
    "print(clf_forest.best_params_, '\\n')"
   ]
  },
  {
   "cell_type": "code",
   "execution_count": null,
   "metadata": {
    "id": "FpA-jg9ruBWl"
   },
   "outputs": [],
   "source": [
    "# Random search CV\n",
    "\n",
    "from sklearn.model_selection import RandomizedSearchCV\n",
    "from sklearn.model_selection import ShuffleSplit\n",
    "\n",
    "reg = LogisticRegression()\n",
    "\n",
    "params_dict = {'penalty': ['l1', 'l2', 'elasticnet'],\n",
    "               'tol': [10**-6, 10**-5, 10**-4, 10**-3],\n",
    "               'C': [2, 1.5, 1, 0.7],\n",
    "               'solver': ['newton-cg', 'lbfgs', 'liblinear', 'sag', 'saga']}\n",
    "\n",
    "print(f'{type(reg).__name__} Tuning hyper-parameters with grid')\n",
    "\n",
    "ss_cv = ShuffleSplit(n_splits=5)\n",
    "\n",
    "clf_forest = RandomizedSearchCV(reg, params_dict, random_state=42, \n",
    "                                cv = ss_cv, verbose=10, n_iter=200, n_jobs=-1)\n",
    "\n",
    "clf_forest.fit(X_train, y_train)\n",
    "\n",
    "print(\"Best parameters set found on validation set:\")\n",
    "print(clf_forest.best_params_, '\\n')"
   ]
  }
 ],
 "metadata": {
  "colab": {
   "name": "Model selection.ipynb",
   "provenance": []
  },
  "kernelspec": {
   "display_name": "Python 3",
   "language": "python",
   "name": "python3"
  },
  "language_info": {
   "codemirror_mode": {
    "name": "ipython",
    "version": 3
   },
   "file_extension": ".py",
   "mimetype": "text/x-python",
   "name": "python",
   "nbconvert_exporter": "python",
   "pygments_lexer": "ipython3",
   "version": "3.8.3"
  }
 },
 "nbformat": 4,
 "nbformat_minor": 1
}
