{
 "cells": [
  {
   "cell_type": "markdown",
   "metadata": {},
   "source": [
    "[![Open In Colab](https://colab.research.google.com/assets/colab-badge.svg)](https://colab.research.google.com/github/Omerdan03/DanzDSTools/blob/master/SQL_tools.ipynb)"
   ]
  },
  {
   "cell_type": "code",
   "execution_count": 1,
   "metadata": {},
   "outputs": [],
   "source": [
    "import mysql.connector as connector\n",
    "import pandas as pd\n",
    "import matplotlib.pyplot as plt\n",
    "import seaborn as sns"
   ]
  },
  {
   "cell_type": "markdown",
   "metadata": {},
   "source": [
    "Don't forget the change those setting to your client and database "
   ]
  },
  {
   "cell_type": "code",
   "execution_count": 2,
   "metadata": {},
   "outputs": [],
   "source": [
    "host = 'localhost'\n",
    "user = 'root'\n",
    "password = ''\n",
    "database = ''"
   ]
  },
  {
   "cell_type": "code",
   "execution_count": 3,
   "metadata": {},
   "outputs": [],
   "source": [
    "def connect_to_mysql():\n",
    "    \"\"\"\n",
    "    This function uses the configuration from config.py file and returns a connection the mysql. if stocks_db doesn't\n",
    "    exists it create one according to stock_prices.sql file.\n",
    "    :return: a connection at the stacks_db database:\n",
    "    \"\"\"\n",
    "    con = connector.connect(host=host, user=user, password=password, database=database)\n",
    "    return con"
   ]
  },
  {
   "cell_type": "code",
   "execution_count": 4,
   "metadata": {},
   "outputs": [],
   "source": [
    "def send_statement(con, statement):\n",
    "    \"\"\"\n",
    "    This function receives statement and connection and runs the statement. it return the return from that statement\n",
    "    :param statement: String to be run on the db\n",
    "    :param con: A connection object to the sql\n",
    "    :return: the return from the db\n",
    "    \"\"\"\n",
    "    cursor = con.cursor()\n",
    "    cursor.execute(statement)\n",
    "    return list(cursor)"
   ]
  },
  {
   "cell_type": "code",
   "execution_count": 5,
   "metadata": {},
   "outputs": [],
   "source": [
    "def get_tables(con):\n",
    "    \"\"\"\n",
    "    This function receives a connection and returns a list of the columns in that table\n",
    "    :param con: A connection object to the sql\n",
    "    :return: A list containing the tables in the db\n",
    "    \"\"\"\n",
    "    quarry = f\"SHOW TABLES\"\n",
    "    tables_tuple = send_statement(con, quarry)\n",
    "    return [column[0] for column in tables_tuple]"
   ]
  },
  {
   "cell_type": "code",
   "execution_count": 6,
   "metadata": {},
   "outputs": [],
   "source": [
    "def get_columns(con, table):\n",
    "    \"\"\"\n",
    "    This function receives a connection and a table and returns a list of the columns in that table\n",
    "    :param con: A connection object to the sql\n",
    "    :param table: A table to collect the columns from\n",
    "    :return: A list containing the columns in the list\n",
    "    \"\"\"\n",
    "    quarry = f\"SELECT COLUMN_NAME FROM INFORMATION_SCHEMA.COLUMNS WHERE TABLE_NAME = N'{table}'\"\n",
    "    columns_tuple = send_statement(con, quarry)\n",
    "    return [column[0] for column in columns_tuple]"
   ]
  },
  {
   "cell_type": "code",
   "execution_count": 7,
   "metadata": {},
   "outputs": [],
   "source": [
    "def get_table_as_df(con, table):\n",
    "    \"\"\"\n",
    "    This function revices a connection and a table and returns a DataFrame with all the data from the table\n",
    "    :param con: A connection object to the sql\n",
    "    :param table: A table to collect the data from\n",
    "    :return: A DataFrame from the table\n",
    "    \"\"\"\n",
    "    columns = get_columns(con, table)\n",
    "    quarry = f\"SELECT * from {table}\"\n",
    "    arr = send_statement(con, quarry)\n",
    "    return pd.DataFrame(arr, columns=columns)"
   ]
  },
  {
   "cell_type": "code",
   "execution_count": 8,
   "metadata": {},
   "outputs": [],
   "source": [
    "def get_quarry(table, columns=\"*\", limit=None, where=None, order=None, desc=False):\n",
    "    \"\"\"\n",
    "    This function generates a SQL quarry accordion to the input parameters\n",
    "    \"\"\"\n",
    "    if columns:\n",
    "        columns_quarry = f\"{', '.join(columns)}\"\n",
    "    else:\n",
    "        columns_quarry = \"*\"\n",
    "    if where:\n",
    "        where_quarry = f\"WHERE {where}\"\n",
    "    else:\n",
    "        where_quarry = \"\"\n",
    "    if limit:\n",
    "        limit_quarry = f'LIMIT {limit}'\n",
    "    else:\n",
    "        limit_quarry = \"\"\n",
    "    if order:\n",
    "        order_quarry = f\"ORDER BY {order}\"\n",
    "        if desc:\n",
    "            order_quarry += \" DESC\"\n",
    "    else:\n",
    "        order_quarry = \"\"\n",
    "    quarry = f\"SELECT {columns_quarry} FROM {table} {where_quarry} {order_quarry} {limit_quarry};\"\n",
    "    return quarry"
   ]
  },
  {
   "cell_type": "markdown",
   "metadata": {},
   "source": [
    "This is an example that takes the first table from the db and "
   ]
  },
  {
   "cell_type": "code",
   "execution_count": 10,
   "metadata": {},
   "outputs": [
    {
     "data": {
      "text/html": [
       "<div>\n",
       "<style scoped>\n",
       "    .dataframe tbody tr th:only-of-type {\n",
       "        vertical-align: middle;\n",
       "    }\n",
       "\n",
       "    .dataframe tbody tr th {\n",
       "        vertical-align: top;\n",
       "    }\n",
       "\n",
       "    .dataframe thead th {\n",
       "        text-align: right;\n",
       "    }\n",
       "</style>\n",
       "<table border=\"1\" class=\"dataframe\">\n",
       "  <thead>\n",
       "    <tr style=\"text-align: right;\">\n",
       "      <th></th>\n",
       "      <th>full_name</th>\n",
       "      <th>gender</th>\n",
       "      <th>id</th>\n",
       "    </tr>\n",
       "  </thead>\n",
       "  <tbody>\n",
       "    <tr>\n",
       "      <th>0</th>\n",
       "      <td>933</td>\n",
       "      <td>Lewis Abernathy</td>\n",
       "      <td>M</td>\n",
       "    </tr>\n",
       "    <tr>\n",
       "      <th>1</th>\n",
       "      <td>2547</td>\n",
       "      <td>Andrew Adamson</td>\n",
       "      <td>M</td>\n",
       "    </tr>\n",
       "    <tr>\n",
       "      <th>2</th>\n",
       "      <td>2700</td>\n",
       "      <td>William Addy</td>\n",
       "      <td>M</td>\n",
       "    </tr>\n",
       "    <tr>\n",
       "      <th>3</th>\n",
       "      <td>2898</td>\n",
       "      <td>Seth Adkins</td>\n",
       "      <td>M</td>\n",
       "    </tr>\n",
       "    <tr>\n",
       "      <th>4</th>\n",
       "      <td>2925</td>\n",
       "      <td>Charles Adler</td>\n",
       "      <td>M</td>\n",
       "    </tr>\n",
       "    <tr>\n",
       "      <th>...</th>\n",
       "      <td>...</td>\n",
       "      <td>...</td>\n",
       "      <td>...</td>\n",
       "    </tr>\n",
       "    <tr>\n",
       "      <th>1995</th>\n",
       "      <td>850088</td>\n",
       "      <td>Butch Wilhelm</td>\n",
       "      <td>M</td>\n",
       "    </tr>\n",
       "    <tr>\n",
       "      <th>1996</th>\n",
       "      <td>850089</td>\n",
       "      <td>Dalyn Chew</td>\n",
       "      <td>M</td>\n",
       "    </tr>\n",
       "    <tr>\n",
       "      <th>1997</th>\n",
       "      <td>850090</td>\n",
       "      <td>Celia Fushille-Burke</td>\n",
       "      <td>M</td>\n",
       "    </tr>\n",
       "    <tr>\n",
       "      <th>1998</th>\n",
       "      <td>850091</td>\n",
       "      <td>Mercedes Ngoh</td>\n",
       "      <td>M</td>\n",
       "    </tr>\n",
       "    <tr>\n",
       "      <th>1999</th>\n",
       "      <td>850092</td>\n",
       "      <td>Jennifer Jaffe</td>\n",
       "      <td>M</td>\n",
       "    </tr>\n",
       "  </tbody>\n",
       "</table>\n",
       "<p>2000 rows × 3 columns</p>\n",
       "</div>"
      ],
      "text/plain": [
       "      full_name                gender id\n",
       "0           933       Lewis Abernathy  M\n",
       "1          2547        Andrew Adamson  M\n",
       "2          2700          William Addy  M\n",
       "3          2898           Seth Adkins  M\n",
       "4          2925         Charles Adler  M\n",
       "...         ...                   ... ..\n",
       "1995     850088         Butch Wilhelm  M\n",
       "1996     850089            Dalyn Chew  M\n",
       "1997     850090  Celia Fushille-Burke  M\n",
       "1998     850091         Mercedes Ngoh  M\n",
       "1999     850092        Jennifer Jaffe  M\n",
       "\n",
       "[2000 rows x 3 columns]"
      ]
     },
     "execution_count": 10,
     "metadata": {},
     "output_type": "execute_result"
    }
   ],
   "source": [
    "con = connect_to_mysql()\n",
    "tables = get_tables(con)\n",
    "get_table_as_df(con, tables[0])"
   ]
  },
  {
   "cell_type": "code",
   "execution_count": null,
   "metadata": {},
   "outputs": [],
   "source": []
  }
 ],
 "metadata": {
  "kernelspec": {
   "display_name": "Python [conda env:root] *",
   "language": "python",
   "name": "conda-root-py"
  },
  "language_info": {
   "codemirror_mode": {
    "name": "ipython",
    "version": 3
   },
   "file_extension": ".py",
   "mimetype": "text/x-python",
   "name": "python",
   "nbconvert_exporter": "python",
   "pygments_lexer": "ipython3",
   "version": "3.8.3"
  }
 },
 "nbformat": 4,
 "nbformat_minor": 4
}
