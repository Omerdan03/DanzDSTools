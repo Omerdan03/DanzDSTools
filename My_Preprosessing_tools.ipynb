{
 "cells": [
  {
   "cell_type": "markdown",
   "metadata": {},
   "source": [
    "# Preprosessing\n"
   ]
  },
  {
   "cell_type": "code",
   "execution_count": 1,
   "metadata": {},
   "outputs": [],
   "source": [
    "import pandas as pd\n",
    "import matplotlib.pyplot as plt\n",
    "import seaborn as sns\n",
    "import numpy as np\n"
   ]
  },
  {
   "cell_type": "code",
   "execution_count": 1,
   "metadata": {},
   "outputs": [],
   "source": [
    "# random split \n",
    "\n",
    "from sklearn.model_selection import train_test_split\n",
    "X_train, X_test, y_train, y_test = train_test_split(\n",
    "    X, y, test_size=0.33, random_state=42)"
   ]
  },
  {
   "cell_type": "code",
   "execution_count": 6,
   "metadata": {},
   "outputs": [],
   "source": [
    "# one hot incoding\n",
    "\n",
    "one_hot_features = ['relationship', 'race', 'occupation', 'marital-status',\n",
    "                    'sex', 'workclass']\n",
    "\n",
    "\n",
    "from sklearn.preprocessing import OneHotEncoder\n",
    "enc = OneHotEncoder()\n",
    "enc.fit(X_train[one_hot_features])\n",
    "X_train_enc_oh = pd.DataFrame(enc.transform(X_train[one_hot_features]).toarray(),\n",
    "                           columns=enc.get_feature_names())\n",
    "X_test_enc_oh = pd.DataFrame(enc.transform(X_test[one_hot_features]).toarray(),\n",
    "                          columns=enc.get_feature_names())\n",
    "y_train[y_train==' >50K'] = 1\n",
    "y_train[~(y_train ==1)] = 0\n",
    "y_train = y_train.astype(int)\n",
    "y_test[y_test==' >50K'] = 1\n",
    "y_test[~(y_test ==1)] = 0\n",
    "y_test = y_test.astype(int)"
   ]
  },
  {
   "cell_type": "code",
   "execution_count": 7,
   "metadata": {},
   "outputs": [],
   "source": [
    "# ordinal incoding\n",
    "\n",
    "ordinal_features = ['education']\n",
    "education_order = [' Preschool', ' 1st-4th', ' 5th-6th', ' 7th-8th', ' 9th',\n",
    "                   ' 10th', ' 11th', ' 12th',  ' HS-grad', ' Prof-school', \n",
    "                   ' Assoc-acdm', ' Assoc-voc', ' Some-college', ' Bachelors',\n",
    "                   ' Masters', ' Doctorate']\n",
    "\n",
    "from sklearn.preprocessing import OrdinalEncoder\n",
    "encoder = OrdinalEncoder(categories=[education_order])\n",
    "encoder.fit(X_train[ordinal_features].values.reshape(-1, 1))\n",
    "X_train_enc_ord = pd.DataFrame(encoder.transform(X_train[ordinal_features]),\n",
    "                           columns=ordinal_features)\n",
    "X_test_enc_ord = pd.DataFrame(encoder.transform(X_test[ordinal_features]),\n",
    "                          columns=ordinal_features)"
   ]
  },
  {
   "cell_type": "code",
   "execution_count": null,
   "metadata": {},
   "outputs": [],
   "source": [
    "# Normlize feature\n",
    "\n",
    "mue = df[feature].mean()\n",
    "sigma = df[feature].std()\n",
    "df[feature] = (df[feature] - mue)/sigma"
   ]
  },
  {
   "cell_type": "code",
   "execution_count": null,
   "metadata": {},
   "outputs": [],
   "source": [
    "# Dimensionlity Reduction with PCA\n",
    "\n",
    "from sklearn.decomposition import PCA\n",
    "\n",
    "def plot_PCA_curve(X_train):\n",
    "    pca = PCA()\n",
    "    pca.fit(X_train)\n",
    "    plt.figure(figsize=(7,7))\n",
    "    plt.plot(np.cumsum(pca.explained_variance_ratio_))\n",
    "    plt.xlabel('number of components')\n",
    "    plt.xlabel('cumulative explained variance')\n",
    "\n",
    "\n",
    "def get_n_pca_components(n, X_train, X_test):\n",
    "    pca = PCA(n_components=n)\n",
    "    pca.fit(X_train)\n",
    "    X_train_t = pca.transform(X_train)\n",
    "    X_test_t = pca.transform(X_test)\n",
    "    return X_train_t, X_test_t"
   ]
  }
 ],
 "metadata": {
  "kernelspec": {
   "display_name": "Python [conda env:DataSciance]",
   "language": "python",
   "name": "conda-env-DataSciance-py"
  },
  "language_info": {
   "codemirror_mode": {
    "name": "ipython",
    "version": 3
   },
   "file_extension": ".py",
   "mimetype": "text/x-python",
   "name": "python",
   "nbconvert_exporter": "python",
   "pygments_lexer": "ipython3",
   "version": "3.7.8"
  }
 },
 "nbformat": 4,
 "nbformat_minor": 4
}
