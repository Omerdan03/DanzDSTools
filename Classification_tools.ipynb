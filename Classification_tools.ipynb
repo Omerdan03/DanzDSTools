{
  "nbformat": 4,
  "nbformat_minor": 0,
  "metadata": {
    "colab": {
      "name": "Classification tools.ipynb",
      "provenance": []
    },
    "kernelspec": {
      "display_name": "Python 3",
      "language": "python",
      "name": "python3"
    },
    "language_info": {
      "codemirror_mode": {
        "name": "ipython",
        "version": 3
      },
      "file_extension": ".py",
      "mimetype": "text/x-python",
      "name": "python",
      "nbconvert_exporter": "python",
      "pygments_lexer": "ipython3",
      "version": "3.8.3"
    }
  },
  "cells": [
    {
      "cell_type": "code",
      "metadata": {
        "id": "ADLkJ7_rtA9b"
      },
      "source": [
        "from sklearn.metrics import classification_report, plot_roc_curve\n",
        "\n",
        "def print_roc(clf, X_test, y_test):\n",
        "    y_pred = clf.predict(X_test)\n",
        "    print(classification_report(y_test, y_pred))\n",
        "    plot_roc_curve(clf, X_test, y_test)\n",
        "    plt.plot([(0,0),(1,1)], '--y')\n",
        "    plt.title('ROC curve')\n",
        "    plt.xlabel('False positive rate')\n",
        "    plt.ylabel('True positive rate')\n",
        "    plt.show()"
      ],
      "execution_count": null,
      "outputs": []
    },
    {
      "cell_type": "code",
      "metadata": {
        "id": "TVbdMVGJtGxf"
      },
      "source": [
        "import itertools\n",
        "from sklearn.metrics import confusion_matrix\n",
        "import matplotlib.pyplot as plt\n",
        "def plot_confusion_matrix(model, X_test, y_test, normalize=False, cmap=plt.cm.Blues):\n",
        "    \"\"\"\n",
        "    This function prints and plots the confusion matrix.\n",
        "    Normalization can be applied by setting `normalize=True`.\n",
        "    \"\"\"\n",
        "    y_predict = model.predict(X_test)\n",
        "    cm = confusion_matrix(y_test, y_predict)\n",
        "    if normalize:\n",
        "        cm = cm.astype('float') / cm.sum(axis=1)[:, np.newaxis]\n",
        "        title = 'Normalized confusion matrix'\n",
        "    else:\n",
        "        title = 'Confusion matrix, without normalization'\n",
        "    classes = np.arange(len(model.classes_))\n",
        "    plt.figure()\n",
        "    plt.imshow(cm, interpolation='nearest', cmap=cmap)\n",
        "    plt.title(title)\n",
        "    plt.colorbar()\n",
        "    tick_marks = np.arange(len(classes))\n",
        "    plt.xticks(tick_marks, classes, rotation=45)\n",
        "    plt.yticks(tick_marks, classes)\n",
        "    np.set_printoptions(precision=2)\n",
        "    fmt = '.2f' if normalize else 'd'\n",
        "    thresh = cm.max() / 2.\n",
        "    for i, j in itertools.product(range(cm.shape[0]), range(cm.shape[1])):\n",
        "        plt.text(j, i, format(cm[i, j], fmt),\n",
        "                 horizontalalignment=\"center\",\n",
        "                 color=\"white\" if cm[i, j] > thresh else \"black\")\n",
        "    plt.tight_layout()\n",
        "    plt.ylabel('True label')\n",
        "    plt.xlabel('Predicted label')\n",
        "    plt.show()"
      ],
      "execution_count": null,
      "outputs": []
    },
    {
      "cell_type": "code",
      "metadata": {
        "id": "bb7HoK0QtaPH"
      },
      "source": [
        "# plotting RPC curce and metrics\n",
        "\n",
        "from sklearn.metrics import classification_report, plot_roc_curve\n",
        "from sklearn.metrics import precision_recall_curve\n",
        "import matplotlib.pyplot as plt\n",
        "print(classification_report(y_test, y_pred))\n",
        "plot_roc_curve(clf, X_test, y_test)\n",
        "plt.plot([(0,0),(1,1)], '--y')\n",
        "plt.title('ROC curve')\n",
        "plt.show()"
      ],
      "execution_count": null,
      "outputs": []
    },
    {
      "cell_type": "code",
      "metadata": {
        "id": "vXHbj5Nwtq9d"
      },
      "source": [
        "# Plotting precision and recall based on threshold\n",
        "from sklearn.metrics import precision_recall_curve\n",
        "\n",
        "y_probs = clf.predict_proba(X_test)[:,1]\n",
        "precision, recall, thresholds = precision_recall_curve(y_test, y_probs)\n",
        "\n",
        "def linear_inter(x1, y1, x2, y2, x):\n",
        "    m = (y2-y1)/(x2-x1)\n",
        "    y = y1 + (x2-x) * m\n",
        "    return y\n",
        "\n",
        "\n",
        "recall_ = 0.7\n",
        "for index, rec in enumerate(recall):\n",
        "    if rec < recall_:\n",
        "        break\n",
        "    \n",
        "precision_ = linear_inter(recall[index-1], precision[index-1], recall[index],\n",
        "             precision[index], recall_)\n",
        "threshold_ = linear_inter(recall[index-1], thresholds[index-1], recall[index],\n",
        "             thresholds[index], recall_)\n",
        "print(f'The precision on (recall={recall_}) is {precision_}')\n",
        "print(f'The threshold on (recall={recall_}) is {threshold_}')\n",
        "\n",
        "plt.plot(thresholds, precision[:-1], label='precision')\n",
        "plt.plot(thresholds, recall[:-1], label='recall')\n",
        "plt.xlabel('threshold')\n",
        "plt.legend()\n",
        "plt.show()"
      ],
      "execution_count": null,
      "outputs": []
    },
    {
      "cell_type": "code",
      "metadata": {
        "id": "cwaMUafdtTsr"
      },
      "source": [
        "# simple Random Forest Classifier\n",
        "\n",
        "from sklearn.ensemble import RandomForestClassifier\n",
        "clf = RandomForestClassifier()\n",
        "clf.fit(X_train, y_train)\n",
        "y_pred = clf.predict(X_test)"
      ],
      "execution_count": null,
      "outputs": []
    }
  ]
}