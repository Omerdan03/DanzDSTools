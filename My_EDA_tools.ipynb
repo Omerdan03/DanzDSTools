{
 "cells": [
  {
   "cell_type": "markdown",
   "metadata": {},
   "source": [
    "# EDA WORKFLOW\n",
    "\n",
    "## Read the Data Dictionary!\n",
    "make sure you know what is the target value\n",
    "seperate numerical and categorical values\n",
    "\n",
    "## Write and check assumptions\n",
    "\n",
    "## Look at rows\n",
    "df.head() / df.tail() / df.sample() \n",
    "\n",
    "## Look at missing values\n",
    "df.isnull().sum()\n",
    "\n",
    "## General statistics:\n",
    "df.info()\n",
    "df.describe(include='all')\n",
    "\n",
    "\n",
    "## plot distribpution\n",
    "(box plot /  histogram)\n",
    "\n",
    "## plot inner correlations\n",
    "(heatmap)\n",
    "\n",
    "## show corraltion to the target value"
   ]
  },
  {
   "cell_type": "code",
   "execution_count": 1,
   "metadata": {},
   "outputs": [],
   "source": [
    "import pandas as pd\n",
    "import matplotlib.pyplot as plt\n",
    "import seaborn as sns"
   ]
  },
  {
   "cell_type": "code",
   "execution_count": null,
   "metadata": {},
   "outputs": [],
   "source": []
  }
 ],
 "metadata": {
  "kernelspec": {
   "display_name": "Python [conda env:root] *",
   "language": "python",
   "name": "conda-root-py"
  },
  "language_info": {
   "codemirror_mode": {
    "name": "ipython",
    "version": 3
   },
   "file_extension": ".py",
   "mimetype": "text/x-python",
   "name": "python",
   "nbconvert_exporter": "python",
   "pygments_lexer": "ipython3",
   "version": "3.8.3"
  }
 },
 "nbformat": 4,
 "nbformat_minor": 4
}
