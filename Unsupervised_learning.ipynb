{
  "nbformat": 4,
  "nbformat_minor": 0,
  "metadata": {
    "colab": {
      "name": "Unsupervised learning.ipynb",
      "provenance": [],
      "collapsed_sections": []
    },
    "kernelspec": {
      "name": "python3",
      "display_name": "Python 3"
    }
  },
  "cells": [
    {
      "cell_type": "markdown",
      "metadata": {
        "id": "PmIeYKiP54dr"
      },
      "source": [
        "KMEANS"
      ]
    },
    {
      "cell_type": "code",
      "metadata": {
        "id": "HtMlLTM_gzgV"
      },
      "source": [
        "from sklearn.cluster import KMeans\n",
        "from sklearn.decomposition import PCA\n",
        "\n",
        "def get_num_clusters(X):  # Elbow moethod\n",
        "    k = range(1,11)\n",
        "    wcss_ks = []\n",
        "    for i in k:\n",
        "        kmeans = KMeans(n_clusters=i, random_state=0).fit(X)\n",
        "        wcss_ks.append(kmeans.inertia_)\n",
        "    plt.plot(k, wcss_ks)\n",
        "    plt.title(\"WCSS at different k values\")\n",
        "    plt.xlabel(\"k\")\n",
        "    plt.ylabel(\"WCSS\")\n",
        "    plt.show() \n",
        "\n",
        "def claster(X, k):\n",
        "    kmeans = KMeans(n_clusters=k, random_state=42).fit(X)\n",
        "    return kmeans.labels_\n",
        "\n",
        "def claster_plot_pca(X, k):\n",
        "    n = 2\n",
        "    pca = PCA(n_components=n)\n",
        "    pca.fit(X)\n",
        "    X_t = pca.transform(X)\n",
        "    kmeans = KMeans(n_clusters=k, random_state=42).fit(X_t)\n",
        "    plt.figure(figsize=(7,7))\n",
        "    plt.scatter(X_t[:,0], X_t[:,1], c=kmeans.labels_)\n",
        "    plt.xlabel('PCA comonent - 1')\n",
        "    plt.ylabel('PCA comonent - 2')\n",
        "    plt.show()\n"
      ],
      "execution_count": 65,
      "outputs": []
    },
    {
      "cell_type": "markdown",
      "metadata": {
        "id": "6_IGpAI257U9"
      },
      "source": [
        "Anomaly detection"
      ]
    },
    {
      "cell_type": "code",
      "metadata": {
        "id": "XAk9Ficf59kC"
      },
      "source": [
        "from sklearn.neighbors import LocalOutlierFactor\n",
        "from sklearn.ensemble import IsolationForest\n",
        "\n",
        "def get_anomaly_local(X):   # X must be scaled!\n",
        "    clf = LocalOutlierFactor()\n",
        "    y_pred = clf.fit_predict(X)\n",
        "    return y_pred\n",
        "\n",
        "def get_anomaly_forest(X):\n",
        "    clf = IsolationForest()\n",
        "    y_pred = clf.fit_predict(X)\n",
        "    return y_pred"
      ],
      "execution_count": 75,
      "outputs": []
    }
  ]
}